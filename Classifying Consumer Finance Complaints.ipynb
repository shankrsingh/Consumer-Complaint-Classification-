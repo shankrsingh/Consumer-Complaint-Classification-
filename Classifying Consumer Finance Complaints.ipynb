{
 "cells": [
  {
   "cell_type": "markdown",
   "metadata": {},
   "source": [
    "# Classifying Consumer Finance Complaints \n",
    "\n",
    "## Problem Formulation\n",
    "\n",
    "- The problem is supervised text classification problem, and our goal is to investigate which supervised machine learning methods are best suited to solve it.\n",
    "- Given a new complaint comes in, we want to assign it to one of 12 categories. \n",
    "- The classifier makes the assumption that each new complaint is assigned to one and only one category.\n",
    "- This is multi-class text classification problem"
   ]
  },
  {
   "cell_type": "code",
   "execution_count": 124,
   "metadata": {},
   "outputs": [],
   "source": [
    "import pandas as pd\n",
    "import numpy as np\n",
    "import matplotlib.pyplot as plt\n",
    "import seaborn as sns\n",
    "import warnings\n",
    "import pickle\n",
    "from sklearn.linear_model import LogisticRegression\n",
    "from sklearn.ensemble import RandomForestClassifier\n",
    "from sklearn.svm import LinearSVC\n",
    "from sklearn.metrics import confusion_matrix\n",
    "from sklearn.feature_extraction.text import TfidfVectorizer\n",
    "from sklearn.feature_selection import chi2\n",
    "warnings.filterwarnings('ignore')"
   ]
  },
  {
   "cell_type": "code",
   "execution_count": 2,
   "metadata": {},
   "outputs": [],
   "source": [
    "df=pd.read_csv('Consumer_Complaints.csv')"
   ]
  },
  {
   "cell_type": "code",
   "execution_count": 3,
   "metadata": {},
   "outputs": [
    {
     "data": {
      "text/html": [
       "<div>\n",
       "<style scoped>\n",
       "    .dataframe tbody tr th:only-of-type {\n",
       "        vertical-align: middle;\n",
       "    }\n",
       "\n",
       "    .dataframe tbody tr th {\n",
       "        vertical-align: top;\n",
       "    }\n",
       "\n",
       "    .dataframe thead th {\n",
       "        text-align: right;\n",
       "    }\n",
       "</style>\n",
       "<table border=\"1\" class=\"dataframe\">\n",
       "  <thead>\n",
       "    <tr style=\"text-align: right;\">\n",
       "      <th></th>\n",
       "      <th>Date received</th>\n",
       "      <th>Product</th>\n",
       "      <th>Sub-product</th>\n",
       "      <th>Issue</th>\n",
       "      <th>Sub-issue</th>\n",
       "      <th>Consumer complaint narrative</th>\n",
       "      <th>Company public response</th>\n",
       "      <th>Company</th>\n",
       "      <th>State</th>\n",
       "      <th>ZIP code</th>\n",
       "      <th>Tags</th>\n",
       "      <th>Consumer consent provided?</th>\n",
       "      <th>Submitted via</th>\n",
       "      <th>Date sent to company</th>\n",
       "      <th>Company response to consumer</th>\n",
       "      <th>Timely response?</th>\n",
       "      <th>Consumer disputed?</th>\n",
       "      <th>Complaint ID</th>\n",
       "    </tr>\n",
       "  </thead>\n",
       "  <tbody>\n",
       "    <tr>\n",
       "      <th>0</th>\n",
       "      <td>08/27/2019</td>\n",
       "      <td>Credit card or prepaid card</td>\n",
       "      <td>General-purpose credit card or charge card</td>\n",
       "      <td>Other features, terms, or problems</td>\n",
       "      <td>Other problem</td>\n",
       "      <td>NaN</td>\n",
       "      <td>NaN</td>\n",
       "      <td>NAVY FEDERAL CREDIT UNION</td>\n",
       "      <td>NY</td>\n",
       "      <td>11238</td>\n",
       "      <td>NaN</td>\n",
       "      <td>NaN</td>\n",
       "      <td>Web</td>\n",
       "      <td>08/27/2019</td>\n",
       "      <td>In progress</td>\n",
       "      <td>Yes</td>\n",
       "      <td>NaN</td>\n",
       "      <td>3355323</td>\n",
       "    </tr>\n",
       "    <tr>\n",
       "      <th>1</th>\n",
       "      <td>08/27/2019</td>\n",
       "      <td>Credit reporting, credit repair services, or o...</td>\n",
       "      <td>Credit repair services</td>\n",
       "      <td>Confusing or misleading advertising or marketing</td>\n",
       "      <td>NaN</td>\n",
       "      <td>NaN</td>\n",
       "      <td>NaN</td>\n",
       "      <td>FREEDOM FINANCIAL NETWORK</td>\n",
       "      <td>NC</td>\n",
       "      <td>28791</td>\n",
       "      <td>Older American</td>\n",
       "      <td>NaN</td>\n",
       "      <td>Web</td>\n",
       "      <td>08/27/2019</td>\n",
       "      <td>In progress</td>\n",
       "      <td>Yes</td>\n",
       "      <td>NaN</td>\n",
       "      <td>3355527</td>\n",
       "    </tr>\n",
       "    <tr>\n",
       "      <th>2</th>\n",
       "      <td>08/27/2019</td>\n",
       "      <td>Credit reporting, credit repair services, or o...</td>\n",
       "      <td>Credit reporting</td>\n",
       "      <td>Incorrect information on your report</td>\n",
       "      <td>Account information incorrect</td>\n",
       "      <td>NaN</td>\n",
       "      <td>NaN</td>\n",
       "      <td>NAVY FEDERAL CREDIT UNION</td>\n",
       "      <td>MA</td>\n",
       "      <td>01523</td>\n",
       "      <td>NaN</td>\n",
       "      <td>NaN</td>\n",
       "      <td>Web</td>\n",
       "      <td>08/27/2019</td>\n",
       "      <td>In progress</td>\n",
       "      <td>Yes</td>\n",
       "      <td>NaN</td>\n",
       "      <td>3354618</td>\n",
       "    </tr>\n",
       "    <tr>\n",
       "      <th>3</th>\n",
       "      <td>08/27/2019</td>\n",
       "      <td>Payday loan, title loan, or personal loan</td>\n",
       "      <td>Installment loan</td>\n",
       "      <td>Charged fees or interest you didn't expect</td>\n",
       "      <td>NaN</td>\n",
       "      <td>NaN</td>\n",
       "      <td>NaN</td>\n",
       "      <td>FREEDOM FINANCIAL NETWORK</td>\n",
       "      <td>CA</td>\n",
       "      <td>95835</td>\n",
       "      <td>Servicemember</td>\n",
       "      <td>NaN</td>\n",
       "      <td>Web</td>\n",
       "      <td>08/27/2019</td>\n",
       "      <td>In progress</td>\n",
       "      <td>Yes</td>\n",
       "      <td>NaN</td>\n",
       "      <td>3355520</td>\n",
       "    </tr>\n",
       "    <tr>\n",
       "      <th>4</th>\n",
       "      <td>08/27/2019</td>\n",
       "      <td>Debt collection</td>\n",
       "      <td>Other debt</td>\n",
       "      <td>Written notification about debt</td>\n",
       "      <td>Didn't receive enough information to verify debt</td>\n",
       "      <td>NaN</td>\n",
       "      <td>NaN</td>\n",
       "      <td>NCC Business Services, Inc.</td>\n",
       "      <td>CA</td>\n",
       "      <td>93536</td>\n",
       "      <td>NaN</td>\n",
       "      <td>NaN</td>\n",
       "      <td>Web</td>\n",
       "      <td>08/27/2019</td>\n",
       "      <td>Closed with explanation</td>\n",
       "      <td>Yes</td>\n",
       "      <td>NaN</td>\n",
       "      <td>3355391</td>\n",
       "    </tr>\n",
       "  </tbody>\n",
       "</table>\n",
       "</div>"
      ],
      "text/plain": [
       "  Date received                                            Product  \\\n",
       "0    08/27/2019                        Credit card or prepaid card   \n",
       "1    08/27/2019  Credit reporting, credit repair services, or o...   \n",
       "2    08/27/2019  Credit reporting, credit repair services, or o...   \n",
       "3    08/27/2019          Payday loan, title loan, or personal loan   \n",
       "4    08/27/2019                                    Debt collection   \n",
       "\n",
       "                                  Sub-product  \\\n",
       "0  General-purpose credit card or charge card   \n",
       "1                      Credit repair services   \n",
       "2                            Credit reporting   \n",
       "3                            Installment loan   \n",
       "4                                  Other debt   \n",
       "\n",
       "                                              Issue  \\\n",
       "0                Other features, terms, or problems   \n",
       "1  Confusing or misleading advertising or marketing   \n",
       "2              Incorrect information on your report   \n",
       "3        Charged fees or interest you didn't expect   \n",
       "4                   Written notification about debt   \n",
       "\n",
       "                                          Sub-issue  \\\n",
       "0                                     Other problem   \n",
       "1                                               NaN   \n",
       "2                     Account information incorrect   \n",
       "3                                               NaN   \n",
       "4  Didn't receive enough information to verify debt   \n",
       "\n",
       "  Consumer complaint narrative Company public response  \\\n",
       "0                          NaN                     NaN   \n",
       "1                          NaN                     NaN   \n",
       "2                          NaN                     NaN   \n",
       "3                          NaN                     NaN   \n",
       "4                          NaN                     NaN   \n",
       "\n",
       "                       Company State ZIP code            Tags  \\\n",
       "0    NAVY FEDERAL CREDIT UNION    NY    11238             NaN   \n",
       "1    FREEDOM FINANCIAL NETWORK    NC    28791  Older American   \n",
       "2    NAVY FEDERAL CREDIT UNION    MA    01523             NaN   \n",
       "3    FREEDOM FINANCIAL NETWORK    CA    95835   Servicemember   \n",
       "4  NCC Business Services, Inc.    CA    93536             NaN   \n",
       "\n",
       "  Consumer consent provided? Submitted via Date sent to company  \\\n",
       "0                        NaN           Web           08/27/2019   \n",
       "1                        NaN           Web           08/27/2019   \n",
       "2                        NaN           Web           08/27/2019   \n",
       "3                        NaN           Web           08/27/2019   \n",
       "4                        NaN           Web           08/27/2019   \n",
       "\n",
       "  Company response to consumer Timely response? Consumer disputed?  \\\n",
       "0                  In progress              Yes                NaN   \n",
       "1                  In progress              Yes                NaN   \n",
       "2                  In progress              Yes                NaN   \n",
       "3                  In progress              Yes                NaN   \n",
       "4      Closed with explanation              Yes                NaN   \n",
       "\n",
       "   Complaint ID  \n",
       "0       3355323  \n",
       "1       3355527  \n",
       "2       3354618  \n",
       "3       3355520  \n",
       "4       3355391  "
      ]
     },
     "execution_count": 3,
     "metadata": {},
     "output_type": "execute_result"
    }
   ],
   "source": [
    "df.head()"
   ]
  },
  {
   "cell_type": "markdown",
   "metadata": {},
   "source": [
    "**Using Only Consumer Complaint Narrative and Product Columns**"
   ]
  },
  {
   "cell_type": "code",
   "execution_count": 4,
   "metadata": {},
   "outputs": [],
   "source": [
    "df=df[['Product','Consumer complaint narrative']]\n",
    "df.rename(columns={\"Consumer complaint narrative\": \"ccNarrative\"},inplace=True)"
   ]
  },
  {
   "cell_type": "code",
   "execution_count": 5,
   "metadata": {},
   "outputs": [
    {
     "data": {
      "text/plain": [
       "Product             0\n",
       "ccNarrative    936468\n",
       "dtype: int64"
      ]
     },
     "execution_count": 5,
     "metadata": {},
     "output_type": "execute_result"
    }
   ],
   "source": [
    "df.isnull().sum()"
   ]
  },
  {
   "cell_type": "code",
   "execution_count": 6,
   "metadata": {},
   "outputs": [],
   "source": [
    "df.dropna(inplace=True)"
   ]
  },
  {
   "cell_type": "code",
   "execution_count": 7,
   "metadata": {},
   "outputs": [
    {
     "data": {
      "text/plain": [
       "Product        0\n",
       "ccNarrative    0\n",
       "dtype: int64"
      ]
     },
     "execution_count": 7,
     "metadata": {},
     "output_type": "execute_result"
    }
   ],
   "source": [
    "df.isnull().sum()"
   ]
  },
  {
   "cell_type": "code",
   "execution_count": 8,
   "metadata": {},
   "outputs": [
    {
     "name": "stdout",
     "output_type": "stream",
     "text": [
      "There are 432197 datapoints\n"
     ]
    }
   ],
   "source": [
    "print('There are {} datapoints'.format(df.shape[0]))"
   ]
  },
  {
   "cell_type": "code",
   "execution_count": 9,
   "metadata": {},
   "outputs": [],
   "source": [
    "df['category_id'] = df['Product'].factorize()[0]"
   ]
  },
  {
   "cell_type": "code",
   "execution_count": 11,
   "metadata": {},
   "outputs": [],
   "source": [
    "category_id_df = df[['Product', 'category_id']].drop_duplicates().sort_values('category_id')\n",
    "category_to_id = dict(category_id_df.values)\n",
    "id_to_category = dict(category_id_df[['category_id', 'Product']].values)"
   ]
  },
  {
   "cell_type": "markdown",
   "metadata": {},
   "source": [
    "**Classes are Imbalanced in Data**"
   ]
  },
  {
   "cell_type": "code",
   "execution_count": 26,
   "metadata": {},
   "outputs": [
    {
     "data": {
      "image/png": "[encoded data removed]",
      "text/plain": [
       "<Figure size 432x288 with 1 Axes>"
      ]
     },
     "metadata": {
      "needs_background": "light"
     },
     "output_type": "display_data"
    }
   ],
   "source": [
    "df.Product.value_counts().plot(kind='bar')\n",
    "plt.show()"
   ]
  },
  {
   "cell_type": "code",
   "execution_count": 33,
   "metadata": {},
   "outputs": [
    {
     "name": "stdout",
     "output_type": "stream",
     "text": [
      "Credit reporting, credit repair services, or other personal consumer reports : 116041 Complaints ( 27.0 %)\n",
      "------------------------------------------------------------------------------------------------------------------------\n",
      "Debt collection : 95680 Complaints ( 22.0 %)\n",
      "------------------------------------------------------------------------------------------------------------------------\n",
      "Mortgage : 56866 Complaints ( 13.0 %)\n",
      "------------------------------------------------------------------------------------------------------------------------\n",
      "Credit reporting : 31588 Complaints ( 7.0 %)\n",
      "------------------------------------------------------------------------------------------------------------------------\n",
      "Credit card or prepaid card : 26193 Complaints ( 6.0 %)\n",
      "------------------------------------------------------------------------------------------------------------------------\n",
      "Student loan : 23363 Complaints ( 5.0 %)\n",
      "------------------------------------------------------------------------------------------------------------------------\n",
      "Credit card : 18838 Complaints ( 4.0 %)\n",
      "------------------------------------------------------------------------------------------------------------------------\n",
      "Checking or savings account : 15737 Complaints ( 4.0 %)\n",
      "------------------------------------------------------------------------------------------------------------------------\n",
      "Bank account or service : 14885 Complaints ( 3.0 %)\n",
      "------------------------------------------------------------------------------------------------------------------------\n",
      "Consumer Loan : 9473 Complaints ( 2.0 %)\n",
      "------------------------------------------------------------------------------------------------------------------------\n",
      "Vehicle loan or lease : 6799 Complaints ( 2.0 %)\n",
      "------------------------------------------------------------------------------------------------------------------------\n",
      "Money transfer, virtual currency, or money service : 6473 Complaints ( 1.0 %)\n",
      "------------------------------------------------------------------------------------------------------------------------\n",
      "Payday loan, title loan, or personal loan : 5259 Complaints ( 1.0 %)\n",
      "------------------------------------------------------------------------------------------------------------------------\n",
      "Payday loan : 1747 Complaints ( 0.0 %)\n",
      "------------------------------------------------------------------------------------------------------------------------\n",
      "Money transfers : 1497 Complaints ( 0.0 %)\n",
      "------------------------------------------------------------------------------------------------------------------------\n",
      "Prepaid card : 1450 Complaints ( 0.0 %)\n",
      "------------------------------------------------------------------------------------------------------------------------\n",
      "Other financial service : 292 Complaints ( 0.0 %)\n",
      "------------------------------------------------------------------------------------------------------------------------\n",
      "Virtual currency : 16 Complaints ( 0.0 %)\n",
      "------------------------------------------------------------------------------------------------------------------------\n"
     ]
    }
   ],
   "source": [
    "for i,j in dict(df['Product'].value_counts()).items():\n",
    "    print('{} : {} Complaints ( {} %)'.format(i,j,np.round((j*1.0/df.shape[0]*1.0)*100),3))\n",
    "    print('--'*60)"
   ]
  },
  {
   "cell_type": "markdown",
   "metadata": {},
   "source": [
    "## Train Test Split "
   ]
  },
  {
   "cell_type": "code",
   "execution_count": 21,
   "metadata": {},
   "outputs": [],
   "source": [
    "from sklearn.model_selection import train_test_split\n",
    "xtrain,xtest,ytrain,ytest=train_test_split(df[['ccNarrative','Product']],df['category_id'],test_size=0.2,stratify=df['category_id'])"
   ]
  },
  {
   "cell_type": "code",
   "execution_count": 22,
   "metadata": {},
   "outputs": [
    {
     "name": "stdout",
     "output_type": "stream",
     "text": [
      "Train Size: 345757 \n",
      "Test Size: 86440\n"
     ]
    }
   ],
   "source": [
    "print('Train Size:',xtrain.shape[0],'\\nTest Size:',xtest.shape[0])"
   ]
  },
  {
   "cell_type": "markdown",
   "metadata": {},
   "source": [
    "### Distribution of Class Labels in Train and Test Data\n",
    "**Train Data**"
   ]
  },
  {
   "cell_type": "code",
   "execution_count": 24,
   "metadata": {},
   "outputs": [
    {
     "data": {
      "image/png": "[encoded data removed]",
      "text/plain": [
       "<Figure size 432x288 with 1 Axes>"
      ]
     },
     "metadata": {
      "needs_background": "light"
     },
     "output_type": "display_data"
    }
   ],
   "source": [
    "xtrain.Product.value_counts().plot(kind='bar')\n",
    "plt.title('Distribution of Classes in Train Data')\n",
    "plt.show()"
   ]
  },
  {
   "cell_type": "code",
   "execution_count": 29,
   "metadata": {},
   "outputs": [
    {
     "name": "stdout",
     "output_type": "stream",
     "text": [
      "Credit reporting, credit repair services, or other personal consumer reports : 92833 Complaints ( 27.0 %)\n",
      "------------------------------------------------------------------------------------------------------------------------\n",
      "Debt collection : 76544 Complaints ( 22.0 %)\n",
      "------------------------------------------------------------------------------------------------------------------------\n",
      "Mortgage : 45493 Complaints ( 13.0 %)\n",
      "------------------------------------------------------------------------------------------------------------------------\n",
      "Credit reporting : 25270 Complaints ( 7.0 %)\n",
      "------------------------------------------------------------------------------------------------------------------------\n",
      "Credit card or prepaid card : 20954 Complaints ( 6.0 %)\n",
      "------------------------------------------------------------------------------------------------------------------------\n",
      "Student loan : 18690 Complaints ( 5.0 %)\n",
      "------------------------------------------------------------------------------------------------------------------------\n",
      "Credit card : 15070 Complaints ( 4.0 %)\n",
      "------------------------------------------------------------------------------------------------------------------------\n",
      "Checking or savings account : 12590 Complaints ( 4.0 %)\n",
      "------------------------------------------------------------------------------------------------------------------------\n",
      "Bank account or service : 11908 Complaints ( 3.0 %)\n",
      "------------------------------------------------------------------------------------------------------------------------\n",
      "Consumer Loan : 7578 Complaints ( 2.0 %)\n",
      "------------------------------------------------------------------------------------------------------------------------\n",
      "Vehicle loan or lease : 5439 Complaints ( 2.0 %)\n",
      "------------------------------------------------------------------------------------------------------------------------\n",
      "Money transfer, virtual currency, or money service : 5178 Complaints ( 1.0 %)\n",
      "------------------------------------------------------------------------------------------------------------------------\n",
      "Payday loan, title loan, or personal loan : 4207 Complaints ( 1.0 %)\n",
      "------------------------------------------------------------------------------------------------------------------------\n",
      "Payday loan : 1398 Complaints ( 0.0 %)\n",
      "------------------------------------------------------------------------------------------------------------------------\n",
      "Money transfers : 1198 Complaints ( 0.0 %)\n",
      "------------------------------------------------------------------------------------------------------------------------\n",
      "Prepaid card : 1160 Complaints ( 0.0 %)\n",
      "------------------------------------------------------------------------------------------------------------------------\n",
      "Other financial service : 234 Complaints ( 0.0 %)\n",
      "------------------------------------------------------------------------------------------------------------------------\n",
      "Virtual currency : 13 Complaints ( 0.0 %)\n",
      "------------------------------------------------------------------------------------------------------------------------\n"
     ]
    }
   ],
   "source": [
    "for i,j in dict(xtrain['Product'].value_counts()).items():\n",
    "    print('{} : {} Complaints ( {} %)'.format(i,j,np.round((j*1.0/xtrain.shape[0]*1.0)*100),3))\n",
    "    print('--'*60)"
   ]
  },
  {
   "cell_type": "markdown",
   "metadata": {},
   "source": [
    "**Test Data**"
   ]
  },
  {
   "cell_type": "code",
   "execution_count": 26,
   "metadata": {},
   "outputs": [
    {
     "data": {
      "image/png": "[encoded data removed]",
      "text/plain": [
       "<Figure size 432x288 with 1 Axes>"
      ]
     },
     "metadata": {
      "needs_background": "light"
     },
     "output_type": "display_data"
    }
   ],
   "source": [
    "xtest.Product.value_counts().plot(kind='bar')\n",
    "plt.title('Distribution of Classes in Train Data')\n",
    "plt.show()"
   ]
  },
  {
   "cell_type": "code",
   "execution_count": 31,
   "metadata": {},
   "outputs": [
    {
     "name": "stdout",
     "output_type": "stream",
     "text": [
      "Credit reporting, credit repair services, or other personal consumer reports : 23208 Complaints ( 27.0 %)\n",
      "------------------------------------------------------------------------------------------------------------------------\n",
      "Debt collection : 19136 Complaints ( 22.0 %)\n",
      "------------------------------------------------------------------------------------------------------------------------\n",
      "Mortgage : 11373 Complaints ( 13.0 %)\n",
      "------------------------------------------------------------------------------------------------------------------------\n",
      "Credit reporting : 6318 Complaints ( 7.0 %)\n",
      "------------------------------------------------------------------------------------------------------------------------\n",
      "Credit card or prepaid card : 5239 Complaints ( 6.0 %)\n",
      "------------------------------------------------------------------------------------------------------------------------\n",
      "Student loan : 4673 Complaints ( 5.0 %)\n",
      "------------------------------------------------------------------------------------------------------------------------\n",
      "Credit card : 3768 Complaints ( 4.0 %)\n",
      "------------------------------------------------------------------------------------------------------------------------\n",
      "Checking or savings account : 3147 Complaints ( 4.0 %)\n",
      "------------------------------------------------------------------------------------------------------------------------\n",
      "Bank account or service : 2977 Complaints ( 3.0 %)\n",
      "------------------------------------------------------------------------------------------------------------------------\n",
      "Consumer Loan : 1895 Complaints ( 2.0 %)\n",
      "------------------------------------------------------------------------------------------------------------------------\n",
      "Vehicle loan or lease : 1360 Complaints ( 2.0 %)\n",
      "------------------------------------------------------------------------------------------------------------------------\n",
      "Money transfer, virtual currency, or money service : 1295 Complaints ( 1.0 %)\n",
      "------------------------------------------------------------------------------------------------------------------------\n",
      "Payday loan, title loan, or personal loan : 1052 Complaints ( 1.0 %)\n",
      "------------------------------------------------------------------------------------------------------------------------\n",
      "Payday loan : 349 Complaints ( 0.0 %)\n",
      "------------------------------------------------------------------------------------------------------------------------\n",
      "Money transfers : 299 Complaints ( 0.0 %)\n",
      "------------------------------------------------------------------------------------------------------------------------\n",
      "Prepaid card : 290 Complaints ( 0.0 %)\n",
      "------------------------------------------------------------------------------------------------------------------------\n",
      "Other financial service : 58 Complaints ( 0.0 %)\n",
      "------------------------------------------------------------------------------------------------------------------------\n",
      "Virtual currency : 3 Complaints ( 0.0 %)\n",
      "------------------------------------------------------------------------------------------------------------------------\n"
     ]
    }
   ],
   "source": [
    "for i,j in dict(xtest['Product'].value_counts()).items():\n",
    "    print('{} : {} Complaints ( {} %)'.format(i,j,np.round((j*1.0/xtest.shape[0]*1.0)*100),3))\n",
    "    print('--'*60)"
   ]
  },
  {
   "cell_type": "markdown",
   "metadata": {},
   "source": [
    "### Using tfidf to featurise Text Data"
   ]
  },
  {
   "cell_type": "code",
   "execution_count": 60,
   "metadata": {},
   "outputs": [
    {
     "name": "stdout",
     "output_type": "stream",
     "text": [
      "Wall time: 2min 30s\n"
     ]
    }
   ],
   "source": [
    "%%time\n",
    "\n",
    "tfidf = TfidfVectorizer(sublinear_tf=True, min_df=5, norm='l2', encoding='latin-1', ngram_range=(1, 2), stop_words='english')\n",
    "features_train = tfidf.fit_transform(xtrain.ccNarrative)\n",
    "features_test=tfidf.transform(xtest.ccNarrative)"
   ]
  },
  {
   "cell_type": "code",
   "execution_count": 62,
   "metadata": {},
   "outputs": [
    {
     "name": "stdout",
     "output_type": "stream",
     "text": [
      "(86440, 661913) (345757, 661913)\n"
     ]
    }
   ],
   "source": [
    "print(features_test.shape,features_train.shape)"
   ]
  },
  {
   "cell_type": "code",
   "execution_count": 41,
   "metadata": {},
   "outputs": [],
   "source": [
    "labels = ytrain"
   ]
  },
  {
   "cell_type": "code",
   "execution_count": 47,
   "metadata": {
    "collapsed": true,
    "jupyter": {
     "outputs_hidden": true,
     "source_hidden": true
    }
   },
   "outputs": [
    {
     "name": "stdout",
     "output_type": "stream",
     "text": [
      "victim 0.05533985538574123\n",
      "mortgage 0.07212629371801511\n",
      "fraud 0.0630398586020168\n",
      "trying 0.02491281473568566\n",
      "resolve 0.029921306771465803\n",
      "2008 0.08761672563471952\n",
      "able 0.025459932265072413\n",
      "received 0.016945578221415594\n",
      "xxxx 0.041795152272992804\n",
      "stating 0.02513135738555662\n",
      "representative 0.027645757736369864\n",
      "country 0.04377482833571088\n",
      "wide 0.059496429494659435\n",
      "helped 0.07866207164215296\n",
      "customers 0.03488061341515623\n",
      "problems 0.036695964767555815\n",
      "refinancing 0.0455883918604702\n",
      "homes 0.0479757572347309\n",
      "understanding 0.038945155438001464\n",
      "refinance 0.0625213855844457\n",
      "home 0.06725271097321359\n",
      "terms 0.033762012184102755\n",
      "suitable 0.06318772233189522\n",
      "agreed 0.030365886500058278\n",
      "meetings 0.06582110656089302\n",
      "later 0.0443806607152606\n",
      "told 0.03750169470214546\n",
      "benefit 0.04432513121716371\n",
      "special 0.09840354457670193\n",
      "financing 0.09134144539159676\n",
      "program 0.03484643958336467\n",
      "way 0.02697586051244508\n",
      "remain 0.04060928433227572\n",
      "lower 0.03600318196215777\n",
      "payment 0.01822136840064411\n",
      "did 0.04296110069232443\n",
      "understand 0.03131116684815861\n",
      "tell 0.0295134482182141\n",
      "party 0.03391835539969704\n",
      "quit 0.08576129241131777\n",
      "claim 0.04740653223868646\n",
      "deeded 0.11641935805951929\n",
      "learned 0.04068498264274515\n",
      "fact 0.028044586162900783\n",
      "need 0.02352022085021657\n",
      "make 0.02232437015882037\n",
      "payments 0.053611364143478446\n",
      "ca 0.03181620485725944\n",
      "months 0.02281284466125428\n",
      "notices 0.04101645400506769\n",
      "started 0.03034304311935939\n",
      "coming 0.03900862512781062\n",
      "mail 0.024935183067797097\n",
      "decided 0.03436103127373834\n",
      "open 0.02887378417015288\n",
      "time 0.029570155626305362\n",
      "obtained 0.03783872328449348\n",
      "idea 0.0375339183605171\n",
      "went 0.024950947371324726\n",
      "opened 0.027874619090006745\n",
      "despite 0.03424194036976139\n",
      "monthly 0.02779917790793541\n",
      "cashier 0.05178755045687177\n",
      "check 0.0257628354938904\n",
      "contacted 0.03706369589821859\n",
      "immediately 0.026068937785798964\n",
      "clerical 0.060966817454288544\n",
      "error 0.029845792214386907\n",
      "son 0.04165231658364892\n",
      "daughter 0.042203808518089775\n",
      "law 0.026878375062673758\n",
      "insisted 0.044868234145101826\n",
      "contact 0.023598871911136538\n",
      "county 0.06560151028512698\n",
      "district 0.04769840247419397\n",
      "attorney 0.06412197853712975\n",
      "office 0.04952157505023497\n",
      "just 0.022514352879773117\n",
      "da 0.10821484088109476\n",
      "conducted 0.046178807461257264\n",
      "investigation 0.029814267444591206\n",
      "investigator 0.05336804436792784\n",
      "informed 0.05668966607690123\n",
      "act 0.028832273013953837\n",
      "deemed 0.04877335906284706\n",
      "issued 0.034864757397942\n",
      "case 0.05687497229143435\n",
      "number 0.02096990550517241\n",
      "fbi 0.05455857411534132\n",
      "notified 0.030895235738366156\n",
      "associates 0.04347459477573088\n",
      "doing 0.030922291042031848\n",
      "type 0.035224200095038447\n",
      "business 0.025683748973639873\n",
      "far 0.036809627861934195\n",
      "occasions 0.036184871340251876\n",
      "filed 0.025706822037105313\n",
      "bankruptcy 0.031408333333614154\n",
      "protection 0.03405928531643404\n",
      "chp 0.07739089732742029\n",
      "help 0.022791982403631214\n",
      "attached 0.04664658022428754\n",
      "documentation 0.04747849664276145\n",
      "proving 0.044674567607509805\n",
      "company 0.017616442617196696\n",
      "refinanced 0.044616205631374174\n",
      "sanctioned 0.06582110656089302\n",
      "california 0.04105631968501752\n",
      "dept 0.038972496933433576\n",
      "real 0.03771092312266762\n",
      "estate 0.0426847088835618\n",
      "hired 0.043556499327236584\n",
      "bank 0.019828772692009517\n",
      "america 0.03389927462042353\n",
      "refused 0.027942873053168185\n",
      "respond 0.03337834692766442\n",
      "original 0.025842764926340918\n",
      "loan 0.03975690126973399\n",
      "countrywide 0.061103423710132165\n",
      "today 0.026485343480605654\n",
      "risk 0.041874012722808156\n",
      "losing 0.0452779302797941\n",
      "foreclosure 0.03304206915230634\n",
      "supporting 0.04068679432921007\n",
      "property 0.0308146505760172\n",
      "inspector 0.05736125139317586\n",
      "investigated 0.03808310136618393\n",
      "matter 0.02698460048245578\n",
      "does 0.025449473074567883\n",
      "exist 0.0443812630709464\n",
      "victim mortgage 0.126879322734676\n",
      "mortgage fraud 0.09975758691796138\n",
      "fraud trying 0.0701879359013984\n",
      "trying resolve 0.04965999981882258\n",
      "able received 0.08283504452353727\n",
      "received xxxx 0.03558428709817062\n",
      "xxxx xxxx 0.04482903545332768\n",
      "xxxx stating 0.03853567385817084\n",
      "stating representative 0.08390822587816976\n",
      "country wide 0.07476456258296321\n",
      "customers problems 0.083352454913292\n",
      "understanding xxxx 0.06436808117491674\n",
      "xxxx refinance 0.05965384556672868\n",
      "refinance home 0.08990232894699558\n",
      "home terms 0.08587582040511321\n",
      "later xxxx 0.04654960888678644\n",
      "xxxx told 0.051477601880130314\n",
      "told benefit 0.08390822587816976\n",
      "special financing 0.1545782617083706\n",
      "financing program 0.08516104399100967\n",
      "program way 0.07763680381951404\n",
      "way refinance 0.07870998517414654\n",
      "home special 0.08754928013172535\n",
      "remain home 0.06860763856643137\n",
      "home lower 0.07295597350524555\n",
      "lower mortgage 0.06624672295168682\n",
      "mortgage payment 0.038637001167427104\n",
      "payment did 0.04751153256924226\n",
      "did understand 0.05095215953577312\n",
      "tell home 0.07931026354612619\n",
      "home party 0.08390822587816976\n",
      "quit claim 0.10393271509804684\n",
      "claim deeded 0.1482338168150836\n",
      "learned fact 0.08283504452353727\n",
      "fact xxxx 0.04949986257251464\n",
      "told need 0.04781467575033846\n",
      "need make 0.05324134455246258\n",
      "make payments 0.0370522936729181\n",
      "payments mortgage 0.05436524863613892\n",
      "mortgage xxxx 0.039317666487781365\n",
      "xxxx ca 0.03971442550722796\n",
      "ca did 0.07692202740541051\n",
      "did months 0.06407558542520612\n",
      "months later 0.04159483332099786\n",
      "notices started 0.08587582040511321\n",
      "started coming 0.07336889298747737\n",
      "coming mail 0.07566920929257061\n",
      "mail xxxx 0.044399076561709036\n",
      "xxxx decided 0.05014280605347942\n",
      "decided open 0.0694815811345415\n",
      "open time 0.06973873122107274\n",
      "time xxxx 0.03840890393586384\n",
      "xxxx mortgage 0.06576596916943997\n",
      "mortgage obtained 0.07586401183164918\n",
      "payments idea 0.07900411997447783\n",
      "idea went 0.07931026354612619\n",
      "went opened 0.08754928013172535\n",
      "opened xxxx 0.04339357507899311\n",
      "mortgage payments 0.07082004302887765\n",
      "payments despite 0.06613803299002091\n",
      "despite mortgage 0.08754928013172535\n",
      "payments time 0.04035713290229654\n",
      "time monthly 0.0637155414340565\n",
      "cashier check 0.05597443073805008\n",
      "check contacted 0.06724032241146757\n",
      "contacted xxxx 0.033324523520552894\n",
      "xxxx immediately 0.04574680020180387\n",
      "immediately told 0.0577388791581138\n",
      "told payments 0.056143281609850326\n",
      "clerical error 0.06441081334799804\n",
      "error did 0.06226406972263765\n",
      "did son 0.07962943835664853\n",
      "son daughter 0.07411202284210296\n",
      "daughter law 0.07336889298747737\n",
      "insisted contact 0.08146772836857348\n",
      "contact xxxx 0.03820834300977551\n",
      "xxxx county 0.07216383539823448\n",
      "county district 0.07365736994062591\n",
      "district attorney 0.06669795533949681\n",
      "attorney office 0.056735263444817045\n",
      "office did 0.06138433580456659\n",
      "did just 0.05641865562938567\n",
      "conducted investigation 0.06149971463547357\n",
      "investigator xxxx 0.0670551407538689\n",
      "xxxx informed 0.06574918751543048\n",
      "informed act 0.08855069561731524\n",
      "deemed fraud 0.07815421420926877\n",
      "fraud issued 0.08283504452353727\n",
      "issued case 0.07931026354612619\n",
      "case number 0.04268234423713355\n",
      "number case 0.06462820468754325\n",
      "case xxxx 0.04003138628685813\n",
      "informed fbi 0.08970674495417265\n",
      "notified xxxx 0.04836900464693275\n",
      "xxxx associates 0.06749456628750516\n",
      "doing type 0.07789104769555161\n",
      "type business 0.06571837240523627\n",
      "business xxxx 0.04791375803322131\n",
      "xxxx far 0.058401027453888775\n",
      "far xxxx 0.0600744871805009\n",
      "xxxx contacted 0.03514157238437414\n",
      "contacted occasions 0.07207266244611692\n",
      "helped filed 0.0866659690725967\n",
      "filed bankruptcy 0.04484296208720141\n",
      "bankruptcy protection 0.06432559111176382\n",
      "chp xxxx 0.07763680381951404\n",
      "xxxx did 0.03155273203931657\n",
      "did help 0.05478071045731312\n",
      "help attached 0.06883606666453226\n",
      "attached documentation 0.05564772313268111\n",
      "documentation proving 0.05936408236435564\n",
      "proving company 0.08189638652622508\n",
      "company refinanced 0.08146772836857348\n",
      "refinanced mortgage 0.060122715488738446\n",
      "fraud california 0.08970674495417265\n",
      "california dept 0.08754928013172535\n",
      "real estate 0.04548461516643977\n",
      "hired attorney 0.057244978117031366\n",
      "2008 bank 0.0866659690725967\n",
      "bank america 0.034726815020480126\n",
      "america refused 0.06587300625650379\n",
      "refused respond 0.06249282964862226\n",
      "respond original 0.07566920929257061\n",
      "original loan 0.04513886316221058\n",
      "loan countrywide 0.07529415733946807\n",
      "countrywide loan 0.08390822587816976\n",
      "loan today 0.06566752830482536\n",
      "today attorney 0.07996280328698643\n",
      "attorney case 0.07380587927045461\n",
      "risk losing 0.06527272788452415\n",
      "losing home 0.05708193960716252\n",
      "home foreclosure 0.053761516671611456\n",
      "foreclosure attached 0.07669814582220186\n",
      "attached supporting 0.06272878768546312\n",
      "supporting documentation 0.04909438673961356\n",
      "documentation home 0.07996280328698643\n",
      "home loan 0.043178337896845706\n",
      "loan xxxx 0.03282238060542481\n",
      "xxxx quit 0.07066577112762594\n",
      "deeded property 0.08283504452353727\n",
      "property xxxx 0.04635419720372954\n",
      "county da 0.0866659690725967\n",
      "da office 0.07870998517414654\n",
      "office inspector 0.07547933899706676\n",
      "inspector xxxx 0.07739089732742029\n",
      "xxxx investigated 0.05571462345219873\n",
      "investigated matter 0.06931491925168996\n",
      "matter informed 0.07096780427106229\n",
      "informed xxxx 0.044896767379591605\n",
      "xxxx does 0.04321124704302341\n",
      "does exist 0.05181147225095102\n",
      "exist victim 0.08970674495417265\n"
     ]
    }
   ],
   "source": [
    "feature_names = tfidf.get_feature_names()\n",
    "def returndoc():\n",
    "    doc = 0\n",
    "    feature_index = features[doc,:].nonzero()[1]\n",
    "    tfidf_scores = zip(feature_index, [features[doc, x] for x in feature_index])\n",
    "\n",
    "    for w, s in [(feature_names[i], s) for (i, s) in tfidf_scores]:\n",
    "          print(w, s)"
   ]
  },
  {
   "cell_type": "code",
   "execution_count": 43,
   "metadata": {
    "jupyter": {
     "source_hidden": true
    }
   },
   "outputs": [],
   "source": [
    "data_struct = {'vectorizer': tfidf, 'features':features }\n",
    "with open('storage.bin', 'wb') as f: \n",
    "    pickle.dump(data_struct, f)"
   ]
  },
  {
   "cell_type": "code",
   "execution_count": 33,
   "metadata": {
    "jupyter": {
     "source_hidden": true
    }
   },
   "outputs": [],
   "source": [
    "#load\n",
    "with open('storage.bin', 'rb') as f:\n",
    "    data_struct = pickle.load(f)\n",
    "    tfidf, features = data_struct['vectorizer'], data_struct['features']"
   ]
  },
  {
   "cell_type": "markdown",
   "metadata": {},
   "source": [
    "### Using chi2 to find the terms that are the most correlated with each of the products"
   ]
  },
  {
   "cell_type": "code",
   "execution_count": 50,
   "metadata": {},
   "outputs": [
    {
     "name": "stdout",
     "output_type": "stream",
     "text": [
      "# 'Bank account or service':\n",
      "  . Most correlated unigrams:\n",
      ". bank\n",
      ". overdraft\n",
      "  . Most correlated bigrams:\n",
      ". overdraft fees\n",
      ". checking account\n",
      "# 'Checking or savings account':\n",
      "  . Most correlated unigrams:\n",
      ". checking\n",
      ". deposit\n",
      "  . Most correlated bigrams:\n",
      ". savings account\n",
      ". checking account\n",
      "# 'Consumer Loan':\n",
      "  . Most correlated unigrams:\n",
      ". vehicle\n",
      ". car\n",
      "  . Most correlated bigrams:\n",
      ". santander consumer\n",
      ". auto loan\n",
      "# 'Credit card':\n",
      "  . Most correlated unigrams:\n",
      ". macy\n",
      ". card\n",
      "  . Most correlated bigrams:\n",
      ". american express\n",
      ". credit card\n",
      "# 'Credit card or prepaid card':\n",
      "  . Most correlated unigrams:\n",
      ". express\n",
      ". card\n",
      "  . Most correlated bigrams:\n",
      ". american express\n",
      ". credit card\n",
      "# 'Credit reporting':\n",
      "  . Most correlated unigrams:\n",
      ". equifax\n",
      ". experian\n",
      "  . Most correlated bigrams:\n",
      ". manner soon\n",
      ". disputed resolve\n",
      "# 'Credit reporting, credit repair services, or other personal consumer reports':\n",
      "  . Most correlated unigrams:\n",
      ". inquiries\n",
      ". equifax\n",
      "  . Most correlated bigrams:\n",
      ". mistakes appear\n",
      ". credit report\n",
      "# 'Debt collection':\n",
      "  . Most correlated unigrams:\n",
      ". collection\n",
      ". debt\n",
      "  . Most correlated bigrams:\n",
      ". collection agency\n",
      ". collect debt\n",
      "# 'Money transfer, virtual currency, or money service':\n",
      "  . Most correlated unigrams:\n",
      ". paypal\n",
      ". coinbase\n",
      "  . Most correlated bigrams:\n",
      ". xxxx coinbase\n",
      ". coinbase account\n",
      "# 'Money transfers':\n",
      "  . Most correlated unigrams:\n",
      ". moneygram\n",
      ". western\n",
      "  . Most correlated bigrams:\n",
      ". money gram\n",
      ". western union\n",
      "# 'Mortgage':\n",
      "  . Most correlated unigrams:\n",
      ". modification\n",
      ". mortgage\n",
      "  . Most correlated bigrams:\n",
      ". mortgage company\n",
      ". loan modification\n",
      "# 'Other financial service':\n",
      "  . Most correlated unigrams:\n",
      ". fedloanhelp\n",
      ". lexington\n",
      "  . Most correlated bigrams:\n",
      ". budget planners\n",
      ". national budget\n",
      "# 'Payday loan':\n",
      "  . Most correlated unigrams:\n",
      ". castle\n",
      ". payday\n",
      "  . Most correlated bigrams:\n",
      ". castle payday\n",
      ". payday loan\n",
      "# 'Payday loan, title loan, or personal loan':\n",
      "  . Most correlated unigrams:\n",
      ". borrowed\n",
      ". payday\n",
      "  . Most correlated bigrams:\n",
      ". title loan\n",
      ". 00 loan\n",
      "# 'Prepaid card':\n",
      "  . Most correlated unigrams:\n",
      ". rush\n",
      ". rushcard\n",
      "  . Most correlated bigrams:\n",
      ". prepaid card\n",
      ". rush card\n",
      "# 'Student loan':\n",
      "  . Most correlated unigrams:\n",
      ". loans\n",
      ". navient\n",
      "  . Most correlated bigrams:\n",
      ". student loans\n",
      ". student loan\n",
      "# 'Vehicle loan or lease':\n",
      "  . Most correlated unigrams:\n",
      ". vehicle\n",
      ". car\n",
      "  . Most correlated bigrams:\n",
      ". gap insurance\n",
      ". gm financial\n",
      "# 'Virtual currency':\n",
      "  . Most correlated unigrams:\n",
      ". bitcoins\n",
      ". signup\n",
      "  . Most correlated bigrams:\n",
      ". met fact\n",
      ". com 75\n"
     ]
    }
   ],
   "source": [
    "N = 2\n",
    "for Product, category_id in sorted(category_to_id.items()):\n",
    "  features_chi2 = chi2(features, labels == category_id)\n",
    "  indices = np.argsort(features_chi2[0])\n",
    "  feature_names = np.array(tfidf.get_feature_names())[indices]\n",
    "  unigrams = [v for v in feature_names if len(v.split(' ')) == 1]\n",
    "  bigrams = [v for v in feature_names if len(v.split(' ')) == 2]\n",
    "  print(\"# {}:\".format(Product))\n",
    "  print(\"  Most correlated unigrams:\\n. {}\".format('\\n. '.join(unigrams[-N:])))\n",
    "  print(\"  Most correlated bigrams:\\n. {}\".format('\\n. '.join(bigrams[-N:])))"
   ]
  },
  {
   "cell_type": "markdown",
   "metadata": {},
   "source": [
    "## Naive Bayes"
   ]
  },
  {
   "cell_type": "code",
   "execution_count": 83,
   "metadata": {},
   "outputs": [],
   "source": [
    "from sklearn.naive_bayes import MultinomialNB\n",
    "clf = MultinomialNB().fit(features_train, ytrain)"
   ]
  },
  {
   "cell_type": "code",
   "execution_count": 97,
   "metadata": {},
   "outputs": [],
   "source": [
    "y_pred = clf.predict(features_test) "
   ]
  },
  {
   "cell_type": "code",
   "execution_count": 99,
   "metadata": {},
   "outputs": [
    {
     "name": "stdout",
     "output_type": "stream",
     "text": [
      "                                                                              precision    recall  f1-score   support\n",
      "\n",
      "Credit reporting, credit repair services, or other personal consumer reports       0.60      0.91      0.72     23208\n",
      "                                                             Debt collection       0.64      0.85      0.73     19136\n",
      "                                                                    Mortgage       0.65      0.94      0.77     11373\n",
      "                                   Payday loan, title loan, or personal loan       0.00      0.00      0.00      1052\n",
      "                                                 Credit card or prepaid card       0.49      0.39      0.43      5239\n",
      "                                                 Checking or savings account       0.63      0.25      0.36      3147\n",
      "                                                                Student loan       0.95      0.53      0.68      4673\n",
      "                                                       Vehicle loan or lease       0.00      0.00      0.00      1360\n",
      "                          Money transfer, virtual currency, or money service       0.98      0.05      0.09      1295\n",
      "                                                     Bank account or service       0.89      0.11      0.19      2977\n",
      "                                                                 Credit card       0.88      0.01      0.01      3768\n",
      "                                                            Credit reporting       0.92      0.03      0.07      6318\n",
      "                                                                Prepaid card       0.00      0.00      0.00       290\n",
      "                                                               Consumer Loan       0.00      0.00      0.00      1895\n",
      "                                                                 Payday loan       0.00      0.00      0.00       349\n",
      "                                                             Money transfers       0.00      0.00      0.00       299\n",
      "                                                     Other financial service       0.00      0.00      0.00        58\n",
      "                                                            Virtual currency       0.00      0.00      0.00         3\n",
      "\n",
      "                                                                    accuracy                           0.63     86440\n",
      "                                                                   macro avg       0.42      0.23      0.23     86440\n",
      "                                                                weighted avg       0.64      0.63      0.55     86440\n",
      "\n"
     ]
    }
   ],
   "source": [
    "from sklearn import metrics\n",
    "print(metrics.classification_report(ytest, y_pred, target_names=df['Product'].unique()))"
   ]
  },
  {
   "cell_type": "markdown",
   "metadata": {},
   "source": [
    "**Accuracy is 0.63 , But 8 Classes have 0 Precision and Recall**"
   ]
  },
  {
   "cell_type": "markdown",
   "metadata": {},
   "source": [
    "## Logistic Regression"
   ]
  },
  {
   "cell_type": "code",
   "execution_count": 103,
   "metadata": {},
   "outputs": [],
   "source": [
    "%%time\n",
    "\n",
    "clf=LogisticRegression().fit(features_train,ytrain)"
   ]
  },
  {
   "cell_type": "code",
   "execution_count": 105,
   "metadata": {},
   "outputs": [
    {
     "name": "stdout",
     "output_type": "stream",
     "text": [
      "                                                                              precision    recall  f1-score   support\n",
      "\n",
      "Credit reporting, credit repair services, or other personal consumer reports       0.76      0.87      0.81     23208\n",
      "                                                             Debt collection       0.79      0.88      0.83     19136\n",
      "                                                                    Mortgage       0.89      0.95      0.92     11373\n",
      "                                   Payday loan, title loan, or personal loan       0.57      0.32      0.41      1052\n",
      "                                                 Credit card or prepaid card       0.65      0.70      0.67      5239\n",
      "                                                 Checking or savings account       0.69      0.68      0.68      3147\n",
      "                                                                Student loan       0.87      0.86      0.87      4673\n",
      "                                                       Vehicle loan or lease       0.63      0.39      0.48      1360\n",
      "                          Money transfer, virtual currency, or money service       0.76      0.67      0.71      1295\n",
      "                                                     Bank account or service       0.67      0.60      0.63      2977\n",
      "                                                                 Credit card       0.66      0.52      0.58      3768\n",
      "                                                            Credit reporting       0.78      0.42      0.55      6318\n",
      "                                                                Prepaid card       0.78      0.43      0.55       290\n",
      "                                                               Consumer Loan       0.59      0.36      0.45      1895\n",
      "                                                                 Payday loan       0.61      0.13      0.21       349\n",
      "                                                             Money transfers       0.62      0.16      0.26       299\n",
      "                                                     Other financial service       0.00      0.00      0.00        58\n",
      "                                                            Virtual currency       0.00      0.00      0.00         3\n",
      "\n",
      "                                                                    accuracy                           0.77     86440\n",
      "                                                                   macro avg       0.63      0.50      0.53     86440\n",
      "                                                                weighted avg       0.76      0.77      0.76     86440\n",
      "\n"
     ]
    }
   ],
   "source": [
    "y_pred = clf.predict(features_test)\n",
    "print(metrics.classification_report(ytest, y_pred, target_names=df['Product'].unique()))"
   ]
  },
  {
   "cell_type": "markdown",
   "metadata": {},
   "source": [
    "**Accuracy is 0.77 ,But 2 Classes have 0 Precision and Recall** "
   ]
  },
  {
   "cell_type": "markdown",
   "metadata": {},
   "source": [
    "## Linear SVC"
   ]
  },
  {
   "cell_type": "code",
   "execution_count": 106,
   "metadata": {},
   "outputs": [
    {
     "name": "stdout",
     "output_type": "stream",
     "text": [
      "Wall time: 1min 46s\n"
     ]
    }
   ],
   "source": [
    "%%time\n",
    "\n",
    "clf=LinearSVC().fit(features_train,ytrain)"
   ]
  },
  {
   "cell_type": "code",
   "execution_count": 107,
   "metadata": {},
   "outputs": [
    {
     "name": "stdout",
     "output_type": "stream",
     "text": [
      "                                                                              precision    recall  f1-score   support\n",
      "\n",
      "Credit reporting, credit repair services, or other personal consumer reports       0.82      0.88      0.85     23208\n",
      "                                                             Debt collection       0.83      0.88      0.85     19136\n",
      "                                                                    Mortgage       0.91      0.96      0.93     11373\n",
      "                                   Payday loan, title loan, or personal loan       0.58      0.38      0.46      1052\n",
      "                                                 Credit card or prepaid card       0.66      0.68      0.67      5239\n",
      "                                                 Checking or savings account       0.66      0.68      0.67      3147\n",
      "                                                                Student loan       0.89      0.88      0.88      4673\n",
      "                                                       Vehicle loan or lease       0.60      0.45      0.52      1360\n",
      "                          Money transfer, virtual currency, or money service       0.75      0.70      0.72      1295\n",
      "                                                     Bank account or service       0.66      0.59      0.62      2977\n",
      "                                                                 Credit card       0.63      0.56      0.59      3768\n",
      "                                                            Credit reporting       0.76      0.60      0.67      6318\n",
      "                                                                Prepaid card       0.72      0.55      0.62       290\n",
      "                                                               Consumer Loan       0.57      0.42      0.48      1895\n",
      "                                                                 Payday loan       0.48      0.21      0.29       349\n",
      "                                                             Money transfers       0.56      0.33      0.41       299\n",
      "                                                     Other financial service       0.33      0.02      0.03        58\n",
      "                                                            Virtual currency       1.00      0.33      0.50         3\n",
      "\n",
      "                                                                    accuracy                           0.79     86440\n",
      "                                                                   macro avg       0.69      0.56      0.60     86440\n",
      "                                                                weighted avg       0.79      0.79      0.79     86440\n",
      "\n"
     ]
    }
   ],
   "source": [
    "y_pred = clf.predict(features_test)\n",
    "print(metrics.classification_report(ytest, y_pred, target_names=df['Product'].unique()))"
   ]
  },
  {
   "cell_type": "markdown",
   "metadata": {},
   "source": [
    "**Accuracy is 0.79 ,Non Zero Precision and Recall**"
   ]
  },
  {
   "cell_type": "markdown",
   "metadata": {},
   "source": [
    "## XGBoost"
   ]
  },
  {
   "cell_type": "code",
   "execution_count": 112,
   "metadata": {},
   "outputs": [],
   "source": [
    "dtrain = xgb.DMatrix(data=features_train, label=ytrain)\n",
    "dtest = xgb.DMatrix(data=features_test)"
   ]
  },
  {
   "cell_type": "code",
   "execution_count": 115,
   "metadata": {},
   "outputs": [],
   "source": [
    "params = {\n",
    "    'max_depth': 6,\n",
    "    'objective': 'multi:softmax',  # error evaluation for multiclass training\n",
    "    'num_class': 18}"
   ]
  },
  {
   "cell_type": "code",
   "execution_count": 116,
   "metadata": {},
   "outputs": [
    {
     "name": "stdout",
     "output_type": "stream",
     "text": [
      "Wall time: 12min 33s\n"
     ]
    }
   ],
   "source": [
    "%%time\n",
    "bst = xgb.train(params, dtrain)"
   ]
  },
  {
   "cell_type": "code",
   "execution_count": 117,
   "metadata": {},
   "outputs": [],
   "source": [
    "pred = bst.predict(dtest)"
   ]
  },
  {
   "cell_type": "code",
   "execution_count": 123,
   "metadata": {},
   "outputs": [
    {
     "name": "stdout",
     "output_type": "stream",
     "text": [
      "                                                                              precision    recall  f1-score   support\n",
      "\n",
      "Credit reporting, credit repair services, or other personal consumer reports       0.64      0.82      0.72     23208\n",
      "                                                             Debt collection       0.73      0.80      0.76     19136\n",
      "                                                                    Mortgage       0.87      0.90      0.88     11373\n",
      "                                   Payday loan, title loan, or personal loan       0.46      0.22      0.30      1052\n",
      "                                                 Credit card or prepaid card       0.60      0.53      0.56      5239\n",
      "                                                 Checking or savings account       0.56      0.54      0.55      3147\n",
      "                                                                Student loan       0.82      0.81      0.82      4673\n",
      "                                                       Vehicle loan or lease       0.51      0.35      0.41      1360\n",
      "                          Money transfer, virtual currency, or money service       0.74      0.56      0.64      1295\n",
      "                                                     Bank account or service       0.56      0.47      0.51      2977\n",
      "                                                                 Credit card       0.53      0.45      0.49      3768\n",
      "                                                            Credit reporting       0.69      0.16      0.26      6318\n",
      "                                                                Prepaid card       0.68      0.50      0.58       290\n",
      "                                                               Consumer Loan       0.48      0.29      0.36      1895\n",
      "                                                                 Payday loan       0.42      0.21      0.28       349\n",
      "                                                             Money transfers       0.51      0.35      0.42       299\n",
      "                                                     Other financial service       0.00      0.00      0.00        58\n",
      "                                                            Virtual currency       1.00      0.33      0.50         3\n",
      "\n",
      "                                                                    accuracy                           0.69     86440\n",
      "                                                                   macro avg       0.60      0.46      0.50     86440\n",
      "                                                                weighted avg       0.68      0.69      0.67     86440\n",
      "\n"
     ]
    }
   ],
   "source": [
    "print(metrics.classification_report(ytest, pred, target_names=df['Product'].unique()))"
   ]
  },
  {
   "cell_type": "markdown",
   "metadata": {},
   "source": [
    "**Accuracy is 0.69 , But 1 class have 0.0 Precision and Recall**"
   ]
  },
  {
   "cell_type": "code",
   "execution_count": 127,
   "metadata": {},
   "outputs": [
    {
     "name": "stdout",
     "output_type": "stream",
     "text": [
      "Accuracy table\n",
      "+-------------------+----------+----------------------+\n",
      "|       Model       | Accuracy | Precision and Recall |\n",
      "+-------------------+----------+----------------------+\n",
      "|    Naive Bayes    |   0.63   |          8           |\n",
      "| Linear Regression |   0.77   |          2           |\n",
      "|     Linear SVC    |   0.79   |          0           |\n",
      "|      XgBoost      |   0.69   |          1           |\n",
      "+-------------------+----------+----------------------+\n"
     ]
    }
   ],
   "source": [
    "from prettytable import PrettyTable\n",
    "x = PrettyTable()\n",
    "print (\"Accuracy table\")\n",
    "x.field_names = [\"Model\",\"Accuracy\", \"Precision and Recall\"]\n",
    "x.add_row([\"Naive Bayes\", 0.63,8])\n",
    "x.add_row([\"Linear Regression\", 0.77,2])\n",
    "x.add_row([\"Linear SVC\", 0.79,0])\n",
    "x.add_row([\"XgBoost \", 0.69,1])\n",
    "print(x)"
   ]
  },
  {
   "cell_type": "markdown",
   "metadata": {},
   "source": [
    "**Best Model is Linear SVC**"
   ]
  }
 ],
 "metadata": {
  "kernelspec": {
   "display_name": "Python 3",
   "language": "python",
   "name": "python3"
  },
  "language_info": {
   "codemirror_mode": {
    "name": "ipython",
    "version": 3
   },
   "file_extension": ".py",
   "mimetype": "text/x-python",
   "name": "python",
   "nbconvert_exporter": "python",
   "pygments_lexer": "ipython3",
   "version": "3.6.8"
  }
 },
 "nbformat": 4,
 "nbformat_minor": 4
}
